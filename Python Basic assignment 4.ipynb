{
 "cells": [
  {
   "cell_type": "code",
   "execution_count": null,
   "id": "f3dec772",
   "metadata": {},
   "outputs": [],
   "source": [
    "1. What exactly is []?"
   ]
  },
  {
   "cell_type": "code",
   "execution_count": null,
   "id": "58111be3",
   "metadata": {},
   "outputs": [],
   "source": [
    "\tIndex brackets ([]) have many uses in Python. \n",
    "    First, they are used to define \"list literals,\" allowing you to declare a list and its contents in your program. \n",
    "    Index brackets are also used to write expressions that evaluate to a single item within a list, or a single character in a string.\n"
   ]
  },
  {
   "cell_type": "code",
   "execution_count": null,
   "id": "51a6e9d7",
   "metadata": {},
   "outputs": [],
   "source": [
    "Negative numbers inside of index brackets cause Python to start counting from the end of the sequence, instead of from the beginning. For example, the expression x[-1] evaluates to the last item of list x, x[-2] evaluates to the second-to-last item of list x, and so forth.\n",
    "\n",
    "Finally, index brackets are used to retrieve or set the value for a given key in a dictionary. For example, the expression x[a] evaluates to whatever the value for key a is in dictionary x. The statement x[a] = b will set the value for key a in dictionary x to a new value b (overwriting any existing value)."
   ]
  },
  {
   "cell_type": "code",
   "execution_count": null,
   "id": "0913c4bd",
   "metadata": {},
   "outputs": [],
   "source": [
    "2. In a list of values stored in a variable called spam, how would you assign the value 'hello' as the\n",
    "third value? (Assume [2, 4, 6, 8, 10] are in spam.)"
   ]
  },
  {
   "cell_type": "code",
   "execution_count": 1,
   "id": "33b8e141",
   "metadata": {},
   "outputs": [],
   "source": [
    "spam = [2,4,6,8,10]"
   ]
  },
  {
   "cell_type": "code",
   "execution_count": 2,
   "id": "e7947e17",
   "metadata": {},
   "outputs": [],
   "source": [
    "spam[2]='hello'"
   ]
  },
  {
   "cell_type": "code",
   "execution_count": 3,
   "id": "c4a361aa",
   "metadata": {},
   "outputs": [
    {
     "data": {
      "text/plain": [
       "[2, 4, 'hello', 8, 10]"
      ]
     },
     "execution_count": 3,
     "metadata": {},
     "output_type": "execute_result"
    }
   ],
   "source": [
    "spam"
   ]
  },
  {
   "cell_type": "code",
   "execution_count": null,
   "id": "2fb03aea",
   "metadata": {},
   "outputs": [],
   "source": [
    "Lets pretend the spam includes the list ['a','b','c','d'] for the next three queries."
   ]
  },
  {
   "cell_type": "code",
   "execution_count": 4,
   "id": "ab2f002f",
   "metadata": {},
   "outputs": [],
   "source": [
    "spam = ['a','b','c','d']"
   ]
  },
  {
   "cell_type": "code",
   "execution_count": null,
   "id": "30def23b",
   "metadata": {},
   "outputs": [],
   "source": [
    "3. What is the value of spam[int(int('3' * 2) / 11)]?"
   ]
  },
  {
   "cell_type": "code",
   "execution_count": 5,
   "id": "a58dd5b5",
   "metadata": {},
   "outputs": [
    {
     "data": {
      "text/plain": [
       "'d'"
      ]
     },
     "execution_count": 5,
     "metadata": {},
     "output_type": "execute_result"
    }
   ],
   "source": [
    "spam[int(int('3' * 2) / 11)]"
   ]
  },
  {
   "cell_type": "code",
   "execution_count": null,
   "id": "2edc3b54",
   "metadata": {},
   "outputs": [],
   "source": [
    "4. What is the value of spam[-1]?"
   ]
  },
  {
   "cell_type": "code",
   "execution_count": 6,
   "id": "e8ad37b0",
   "metadata": {},
   "outputs": [
    {
     "data": {
      "text/plain": [
       "'d'"
      ]
     },
     "execution_count": 6,
     "metadata": {},
     "output_type": "execute_result"
    }
   ],
   "source": [
    "spam[-1]"
   ]
  },
  {
   "cell_type": "code",
   "execution_count": null,
   "id": "73350b8b",
   "metadata": {},
   "outputs": [],
   "source": [
    "5. What is the value of spam[:2]?"
   ]
  },
  {
   "cell_type": "code",
   "execution_count": 8,
   "id": "e2690555",
   "metadata": {},
   "outputs": [
    {
     "data": {
      "text/plain": [
       "['a', 'b']"
      ]
     },
     "execution_count": 8,
     "metadata": {},
     "output_type": "execute_result"
    }
   ],
   "source": [
    "spam[:2]"
   ]
  },
  {
   "cell_type": "code",
   "execution_count": null,
   "id": "29aec299",
   "metadata": {},
   "outputs": [],
   "source": [
    "Lets pretend bacon has the list [3.14,'cat',11, 'cat' True] for the next three questions."
   ]
  },
  {
   "cell_type": "code",
   "execution_count": 10,
   "id": "37784564",
   "metadata": {},
   "outputs": [],
   "source": [
    "bacon = [3.14,'cat',11, 'cat', True]"
   ]
  },
  {
   "cell_type": "code",
   "execution_count": null,
   "id": "26fe6e01",
   "metadata": {},
   "outputs": [],
   "source": [
    "6. What is the value of bacon.index('cat')?"
   ]
  },
  {
   "cell_type": "code",
   "execution_count": 12,
   "id": "27ca5dfd",
   "metadata": {},
   "outputs": [
    {
     "data": {
      "text/plain": [
       "1"
      ]
     },
     "execution_count": 12,
     "metadata": {},
     "output_type": "execute_result"
    }
   ],
   "source": [
    "bacon.index('cat')"
   ]
  },
  {
   "cell_type": "code",
   "execution_count": null,
   "id": "a94422c1",
   "metadata": {},
   "outputs": [],
   "source": [
    "7. How does bacon.append(99) change the look of the list value in bacon?"
   ]
  },
  {
   "cell_type": "code",
   "execution_count": 13,
   "id": "ae8b242b",
   "metadata": {},
   "outputs": [],
   "source": [
    "bacon.append(99)"
   ]
  },
  {
   "cell_type": "code",
   "execution_count": 14,
   "id": "8f28c6ef",
   "metadata": {},
   "outputs": [
    {
     "data": {
      "text/plain": [
       "[3.14, 'cat', 11, 'cat', True, 99]"
      ]
     },
     "execution_count": 14,
     "metadata": {},
     "output_type": "execute_result"
    }
   ],
   "source": [
    "bacon"
   ]
  },
  {
   "cell_type": "code",
   "execution_count": null,
   "id": "f648afd7",
   "metadata": {},
   "outputs": [],
   "source": [
    "8. How does bacon.remove('cat') change the look of the list in bacon?"
   ]
  },
  {
   "cell_type": "code",
   "execution_count": 15,
   "id": "98ec9677",
   "metadata": {},
   "outputs": [],
   "source": [
    "bacon.remove('cat')"
   ]
  },
  {
   "cell_type": "code",
   "execution_count": 16,
   "id": "47402a03",
   "metadata": {},
   "outputs": [
    {
     "data": {
      "text/plain": [
       "[3.14, 11, 'cat', True, 99]"
      ]
     },
     "execution_count": 16,
     "metadata": {},
     "output_type": "execute_result"
    }
   ],
   "source": [
    "bacon"
   ]
  },
  {
   "cell_type": "code",
   "execution_count": null,
   "id": "ccce335e",
   "metadata": {},
   "outputs": [],
   "source": [
    "9. What are the list concatenation and list replication operators?"
   ]
  },
  {
   "cell_type": "code",
   "execution_count": null,
   "id": "181f7b5a",
   "metadata": {},
   "outputs": [],
   "source": [
    "In python programming, operator for list concatenation is +, and for list replication *"
   ]
  },
  {
   "cell_type": "code",
   "execution_count": null,
   "id": "d6e06cc1",
   "metadata": {},
   "outputs": [],
   "source": [
    "10. What is difference between the list methods append() and insert()?"
   ]
  },
  {
   "cell_type": "code",
   "execution_count": null,
   "id": "6e486878",
   "metadata": {},
   "outputs": [],
   "source": [
    "The difference is that with append, you just add a new entry at the end of the list. With insert you can create a new entry exactly in the position you want."
   ]
  },
  {
   "cell_type": "code",
   "execution_count": null,
   "id": "e1544f50",
   "metadata": {},
   "outputs": [],
   "source": [
    "11. What are the two methods for removing items from a list?"
   ]
  },
  {
   "cell_type": "code",
   "execution_count": null,
   "id": "ea2af55f",
   "metadata": {},
   "outputs": [],
   "source": [
    "The methods are remove(), pop() and clear(). It helps to remove the very first given element matching from the list. \n",
    "The pop() method removes an element from the list based on the index given. \n",
    "The clear() method will remove all the elements present in the list."
   ]
  },
  {
   "cell_type": "code",
   "execution_count": null,
   "id": "94813522",
   "metadata": {},
   "outputs": [],
   "source": [
    "12. Describe how list values and string values are identical."
   ]
  },
  {
   "cell_type": "code",
   "execution_count": null,
   "id": "40a505f7",
   "metadata": {},
   "outputs": [],
   "source": [
    "The similarity between Lists and Strings in Python is that both are sequences."
   ]
  },
  {
   "cell_type": "code",
   "execution_count": null,
   "id": "9d0e3052",
   "metadata": {},
   "outputs": [],
   "source": [
    "13. Whats the difference between tuples and lists?"
   ]
  },
  {
   "cell_type": "code",
   "execution_count": null,
   "id": "55dd95ff",
   "metadata": {},
   "outputs": [],
   "source": [
    "The key difference between the tuples and lists is that while the tuples are immutable objects the lists are mutable. \n",
    "This means that tuples cannot be changed while the lists can be modified. \n",
    "Tuples are more memory efficient than the lists."
   ]
  },
  {
   "cell_type": "code",
   "execution_count": null,
   "id": "645d73f3",
   "metadata": {},
   "outputs": [],
   "source": [
    "14.How do you type a tuple value that only contains the integer 42?"
   ]
  },
  {
   "cell_type": "code",
   "execution_count": null,
   "id": "e141e5fb",
   "metadata": {},
   "outputs": [],
   "source": [
    "a = (42,)"
   ]
  },
  {
   "cell_type": "code",
   "execution_count": null,
   "id": "f071cb0a",
   "metadata": {},
   "outputs": [],
   "source": [
    "15. How do you get a list values tuple form? "
   ]
  },
  {
   "cell_type": "code",
   "execution_count": 20,
   "id": "8f38b3cc",
   "metadata": {},
   "outputs": [],
   "source": [
    "list1 = [1,2,3,4]"
   ]
  },
  {
   "cell_type": "code",
   "execution_count": 21,
   "id": "6fd2f2f2",
   "metadata": {},
   "outputs": [],
   "source": [
    "tuple1 = tuple(list1)"
   ]
  },
  {
   "cell_type": "code",
   "execution_count": 24,
   "id": "c93c52ba",
   "metadata": {},
   "outputs": [
    {
     "data": {
      "text/plain": [
       "(1, 2, 3, 4)"
      ]
     },
     "execution_count": 24,
     "metadata": {},
     "output_type": "execute_result"
    }
   ],
   "source": [
    "tuple1"
   ]
  },
  {
   "cell_type": "code",
   "execution_count": 26,
   "id": "eb135139",
   "metadata": {},
   "outputs": [],
   "source": [
    "tuple2 = tuple(i for i in list1)"
   ]
  },
  {
   "cell_type": "code",
   "execution_count": 27,
   "id": "70dc866b",
   "metadata": {},
   "outputs": [
    {
     "data": {
      "text/plain": [
       "(1, 2, 3, 4)"
      ]
     },
     "execution_count": 27,
     "metadata": {},
     "output_type": "execute_result"
    }
   ],
   "source": [
    "tuple2"
   ]
  },
  {
   "cell_type": "code",
   "execution_count": 33,
   "id": "09dfac89",
   "metadata": {},
   "outputs": [],
   "source": [
    "tuple3 = (*list1,)"
   ]
  },
  {
   "cell_type": "code",
   "execution_count": 34,
   "id": "acbcdaff",
   "metadata": {},
   "outputs": [
    {
     "data": {
      "text/plain": [
       "(1, 2, 3, 4)"
      ]
     },
     "execution_count": 34,
     "metadata": {},
     "output_type": "execute_result"
    }
   ],
   "source": [
    "tuple3"
   ]
  },
  {
   "cell_type": "code",
   "execution_count": null,
   "id": "a2f24160",
   "metadata": {},
   "outputs": [],
   "source": [
    "How do you get a tuple values list form?"
   ]
  },
  {
   "cell_type": "code",
   "execution_count": 35,
   "id": "a4c4c6c2",
   "metadata": {},
   "outputs": [],
   "source": [
    "tuplex = (5,6,7,8)"
   ]
  },
  {
   "cell_type": "code",
   "execution_count": 36,
   "id": "9f48b2c9",
   "metadata": {},
   "outputs": [],
   "source": [
    "listx = list(tuplex)"
   ]
  },
  {
   "cell_type": "code",
   "execution_count": 37,
   "id": "ec94220b",
   "metadata": {},
   "outputs": [
    {
     "data": {
      "text/plain": [
       "[5, 6, 7, 8]"
      ]
     },
     "execution_count": 37,
     "metadata": {},
     "output_type": "execute_result"
    }
   ],
   "source": [
    "listx"
   ]
  },
  {
   "cell_type": "code",
   "execution_count": null,
   "id": "9b47f0fb",
   "metadata": {},
   "outputs": [],
   "source": [
    "16. Variables that 'contain' list values are not necessarily lists themselves. Instead, what do they\n",
    "contain?"
   ]
  },
  {
   "cell_type": "code",
   "execution_count": null,
   "id": "0e753bb1",
   "metadata": {},
   "outputs": [],
   "source": [
    "Variables will contain references to list values rather than list values themselves.\n",
    "Python uses references whenever variables must store values of mutable data types, such as lists or dictionaries."
   ]
  },
  {
   "cell_type": "code",
   "execution_count": null,
   "id": "dadf372d",
   "metadata": {},
   "outputs": [],
   "source": [
    "17. How do you distinguish between copy.copy() and copy.deepcopy()?"
   ]
  },
  {
   "cell_type": "code",
   "execution_count": null,
   "id": "9e2c8315",
   "metadata": {},
   "outputs": [],
   "source": [
    "copy() creates reference to original object. If you change copied object - you change the original object.\n",
    "deepcopy() creates new object and does real copying of original object to new one. Changing new deepcopied object doesn't affect original object."
   ]
  },
  {
   "cell_type": "code",
   "execution_count": null,
   "id": "170c6f6b",
   "metadata": {},
   "outputs": [],
   "source": []
  }
 ],
 "metadata": {
  "kernelspec": {
   "display_name": "Python 3 (ipykernel)",
   "language": "python",
   "name": "python3"
  },
  "language_info": {
   "codemirror_mode": {
    "name": "ipython",
    "version": 3
   },
   "file_extension": ".py",
   "mimetype": "text/x-python",
   "name": "python",
   "nbconvert_exporter": "python",
   "pygments_lexer": "ipython3",
   "version": "3.9.12"
  }
 },
 "nbformat": 4,
 "nbformat_minor": 5
}
