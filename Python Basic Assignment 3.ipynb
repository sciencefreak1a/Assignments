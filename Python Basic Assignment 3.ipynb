{
 "cells": [
  {
   "cell_type": "code",
   "execution_count": null,
   "id": "4b11a700",
   "metadata": {},
   "outputs": [],
   "source": [
    "1. Why are functions advantageous to have in your programs?"
   ]
  },
  {
   "cell_type": "code",
   "execution_count": null,
   "id": "3c757839",
   "metadata": {},
   "outputs": [],
   "source": [
    "A. The advantages of using functions are:\n",
    "\n",
    "Reducing duplication of code\n",
    "Decomposing complex problems into simpler pieces\n",
    "Improving clarity of the code\n",
    "Reuse of code\n",
    "Information hiding"
   ]
  },
  {
   "cell_type": "code",
   "execution_count": null,
   "id": "2023f2b7",
   "metadata": {},
   "outputs": [],
   "source": [
    "2. When does the code in a function run: when its specified or when its called?"
   ]
  },
  {
   "cell_type": "code",
   "execution_count": null,
   "id": "10f51265",
   "metadata": {},
   "outputs": [],
   "source": [
    "Code in a function runs when it is called."
   ]
  },
  {
   "cell_type": "code",
   "execution_count": null,
   "id": "ce07dd5d",
   "metadata": {},
   "outputs": [],
   "source": [
    "3. What statement creates a function?"
   ]
  },
  {
   "cell_type": "code",
   "execution_count": null,
   "id": "d702f06b",
   "metadata": {},
   "outputs": [],
   "source": [
    "Function in python is created with def keyword"
   ]
  },
  {
   "cell_type": "code",
   "execution_count": null,
   "id": "0e0b55de",
   "metadata": {},
   "outputs": [],
   "source": [
    "4. What is the difference between a function and a function call?"
   ]
  },
  {
   "cell_type": "code",
   "execution_count": null,
   "id": "578766c6",
   "metadata": {},
   "outputs": [],
   "source": [
    "A function is a block of code that does a particular operation and returns a result. It usually accepts inputs as parameters and returns a result. The parameters are not mandatory.\n",
    "\n",
    "E.g:\n",
    "Function add(a,b)\n",
    "return a - b\n",
    "\n",
    "A function call is the code used to pass control to a function.\n",
    "\n",
    "E.g.:\n",
    "\n",
    "b = add(2,5)\n",
    "\n",
    "Now b will have the value 7."
   ]
  },
  {
   "cell_type": "code",
   "execution_count": null,
   "id": "1d8bacaf",
   "metadata": {},
   "outputs": [],
   "source": [
    "5. How many global scopes are there in a Python program? How many local scopes?"
   ]
  },
  {
   "cell_type": "code",
   "execution_count": null,
   "id": "baa09b6f",
   "metadata": {},
   "outputs": [],
   "source": [
    "One global scope, many local scopes"
   ]
  },
  {
   "cell_type": "code",
   "execution_count": null,
   "id": "31b926ac",
   "metadata": {},
   "outputs": [],
   "source": [
    "6. What happens to variables in a local scope when the function call returns?"
   ]
  },
  {
   "cell_type": "code",
   "execution_count": null,
   "id": "55793139",
   "metadata": {},
   "outputs": [],
   "source": [
    "The local variables are destroyed"
   ]
  },
  {
   "cell_type": "code",
   "execution_count": null,
   "id": "08b785b0",
   "metadata": {},
   "outputs": [],
   "source": [
    "7.What is the concept of a return value? Is it possible to have a return value in an expression?"
   ]
  },
  {
   "cell_type": "code",
   "execution_count": null,
   "id": "a11e8544",
   "metadata": {},
   "outputs": [],
   "source": [
    "A return statement is used to end the execution of the function call and “returns” the result (value of the expression following the return keyword) to the caller. The statements after the return statements are not executed."
   ]
  },
  {
   "cell_type": "code",
   "execution_count": null,
   "id": "327cf03b",
   "metadata": {},
   "outputs": [],
   "source": [
    "8. If a function does not have a return statement, what is the return value of a call to that function?"
   ]
  },
  {
   "cell_type": "code",
   "execution_count": null,
   "id": "44ab3fd0",
   "metadata": {},
   "outputs": [],
   "source": [
    "If the return statement is without any expression, then the special value None is returned."
   ]
  },
  {
   "cell_type": "code",
   "execution_count": null,
   "id": "718ec8d7",
   "metadata": {},
   "outputs": [],
   "source": [
    "9. How do you make a function variable refer to the global variable?"
   ]
  },
  {
   "cell_type": "code",
   "execution_count": null,
   "id": "84e87057",
   "metadata": {},
   "outputs": [],
   "source": [
    "If you want to refer to a global variable in a function, you can use the global keyword to declare which variables are global"
   ]
  },
  {
   "cell_type": "code",
   "execution_count": null,
   "id": "c5f53c38",
   "metadata": {},
   "outputs": [],
   "source": [
    "10. What is the data type of None?"
   ]
  },
  {
   "cell_type": "code",
   "execution_count": null,
   "id": "0f202fa1",
   "metadata": {},
   "outputs": [],
   "source": [
    "None is a data type of its own (NoneType) and only None can be None."
   ]
  },
  {
   "cell_type": "code",
   "execution_count": null,
   "id": "9b921ed6",
   "metadata": {},
   "outputs": [],
   "source": [
    "11. What does the sentence import areallyourpetsnamederic do?"
   ]
  },
  {
   "cell_type": "code",
   "execution_count": 3,
   "id": "926752ce",
   "metadata": {},
   "outputs": [
    {
     "ename": "ModuleNotFoundError",
     "evalue": "No module named 'areallyourpetsnamederic'",
     "output_type": "error",
     "traceback": [
      "\u001b[1;31m---------------------------------------------------------------------------\u001b[0m",
      "\u001b[1;31mModuleNotFoundError\u001b[0m                       Traceback (most recent call last)",
      "Input \u001b[1;32mIn [3]\u001b[0m, in \u001b[0;36m<cell line: 1>\u001b[1;34m()\u001b[0m\n\u001b[1;32m----> 1\u001b[0m \u001b[38;5;28;01mimport\u001b[39;00m \u001b[38;5;21;01mareallyourpetsnamederic\u001b[39;00m\n",
      "\u001b[1;31mModuleNotFoundError\u001b[0m: No module named 'areallyourpetsnamederic'"
     ]
    }
   ],
   "source": [
    "import areallyourpetsnamederic"
   ]
  },
  {
   "cell_type": "code",
   "execution_count": null,
   "id": "29713d00",
   "metadata": {},
   "outputs": [],
   "source": [
    "12. If you had a bacon() feature in a spam module, what would you call it after importing spam?"
   ]
  },
  {
   "cell_type": "code",
   "execution_count": null,
   "id": "a3623013",
   "metadata": {},
   "outputs": [],
   "source": [
    "import spam\n",
    "print(spam.bacon())"
   ]
  },
  {
   "cell_type": "code",
   "execution_count": null,
   "id": "aeb96b6e",
   "metadata": {},
   "outputs": [],
   "source": [
    "13. What can you do to save a programme from crashing if it encounters an error?"
   ]
  },
  {
   "cell_type": "code",
   "execution_count": null,
   "id": "5307081b",
   "metadata": {},
   "outputs": [],
   "source": [
    "Python would process all code inside the try and except statement. When it encounters an error, the control is passed to the except block, skipping the code in between.\n",
    "\n",
    "Try running the program and it should throw an error message instead of crashing the program. The reason for the exception is also returned as an exception message."
   ]
  },
  {
   "cell_type": "code",
   "execution_count": null,
   "id": "4feb4559",
   "metadata": {},
   "outputs": [],
   "source": [
    "14. What is the purpose of the try clause? What is the purpose of the except clause?"
   ]
  },
  {
   "cell_type": "code",
   "execution_count": null,
   "id": "b81cc01d",
   "metadata": {},
   "outputs": [],
   "source": [
    "The try block lets you test a block of code for errors. The except block lets you handle the error."
   ]
  }
 ],
 "metadata": {
  "kernelspec": {
   "display_name": "Python 3 (ipykernel)",
   "language": "python",
   "name": "python3"
  },
  "language_info": {
   "codemirror_mode": {
    "name": "ipython",
    "version": 3
   },
   "file_extension": ".py",
   "mimetype": "text/x-python",
   "name": "python",
   "nbconvert_exporter": "python",
   "pygments_lexer": "ipython3",
   "version": "3.9.12"
  }
 },
 "nbformat": 4,
 "nbformat_minor": 5
}
