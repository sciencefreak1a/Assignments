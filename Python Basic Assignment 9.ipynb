{
 "cells": [
  {
   "cell_type": "code",
   "execution_count": null,
   "id": "bc1989c4",
   "metadata": {},
   "outputs": [],
   "source": [
    "1. To what does a relative path refer?"
   ]
  },
  {
   "cell_type": "code",
   "execution_count": null,
   "id": "8e9670c0",
   "metadata": {},
   "outputs": [],
   "source": [
    "A relative path refers to a location that is relative to a current directory. \n",
    "Relative paths make use of two special symbols, a dot (.) and a double-dot (..), which translate into the current directory and the parent directory. \n",
    "Double dots are used for moving up in the hierarchy. A single dot represents the current directory itself."
   ]
  },
  {
   "cell_type": "code",
   "execution_count": null,
   "id": "10c30a6c",
   "metadata": {},
   "outputs": [],
   "source": [
    "2. What does an absolute path start with your operating system?"
   ]
  },
  {
   "cell_type": "code",
   "execution_count": null,
   "id": "bf6b6874",
   "metadata": {},
   "outputs": [],
   "source": [
    "An absolute, or full, path starts with a drive letter followed by a colon, such as D:."
   ]
  },
  {
   "cell_type": "code",
   "execution_count": null,
   "id": "5fe7ca49",
   "metadata": {},
   "outputs": [],
   "source": [
    "3. What do the functions os.getcwd() and os.chdir() do?"
   ]
  },
  {
   "cell_type": "code",
   "execution_count": null,
   "id": "ec9f46de",
   "metadata": {},
   "outputs": [],
   "source": [
    "os. getcwd() returns the absolute path of the current working directory where Python is running as a string str . getcwd stands for \"get current working directory\"\n",
    "\n",
    "os.chdir() method in Python used to change the current working directory to specified path. It takes only a single argument as new directory path."
   ]
  },
  {
   "cell_type": "code",
   "execution_count": null,
   "id": "4d6b46f1",
   "metadata": {},
   "outputs": [],
   "source": [
    "4. What are the . and .. folders?"
   ]
  },
  {
   "cell_type": "code",
   "execution_count": null,
   "id": "7fa0d0e4",
   "metadata": {},
   "outputs": [],
   "source": [
    "Relative paths make use of two special symbols, a dot (.) and a double-dot (..), which translate into the current directory and the parent directory. \n",
    "Double dots are used for moving up in the hierarchy. \n",
    "A single dot represents the current directory itself"
   ]
  },
  {
   "cell_type": "code",
   "execution_count": null,
   "id": "63a6d554",
   "metadata": {},
   "outputs": [],
   "source": [
    "5. In C:\\bacon\\eggs\\spam.txt, which part is the dir name, and which part is the base name?"
   ]
  },
  {
   "cell_type": "code",
   "execution_count": null,
   "id": "b48f3a96",
   "metadata": {},
   "outputs": [],
   "source": [
    "C:\\bacon\\eggs is the dir name\n",
    "spam.txt is the base name."
   ]
  },
  {
   "cell_type": "code",
   "execution_count": null,
   "id": "c81fb34f",
   "metadata": {},
   "outputs": [],
   "source": [
    "6. What are the three “mode” arguments that can be passed to the open() function?"
   ]
  },
  {
   "cell_type": "code",
   "execution_count": null,
   "id": "e2c9d12e",
   "metadata": {},
   "outputs": [],
   "source": [
    "The string 'r' for read mode\n",
    "'w' for write mode\n",
    "'a' for append mode"
   ]
  },
  {
   "cell_type": "code",
   "execution_count": null,
   "id": "62f785ba",
   "metadata": {},
   "outputs": [],
   "source": [
    "7. What happens if an existing file is opened in write mode?"
   ]
  },
  {
   "cell_type": "code",
   "execution_count": null,
   "id": "24cdd4c7",
   "metadata": {},
   "outputs": [],
   "source": [
    "It is erasedand overwritten"
   ]
  },
  {
   "cell_type": "code",
   "execution_count": null,
   "id": "b18d305a",
   "metadata": {},
   "outputs": [],
   "source": [
    "8. How do you tell the difference between read() and readlines()?"
   ]
  },
  {
   "cell_type": "code",
   "execution_count": null,
   "id": "608487e1",
   "metadata": {},
   "outputs": [],
   "source": [
    "The read() method returns the files entire contents as a single string value. \n",
    "The readlines() method returns a list of strings, where each string is a line from the files contents."
   ]
  },
  {
   "cell_type": "code",
   "execution_count": null,
   "id": "9b2b67ec",
   "metadata": {},
   "outputs": [],
   "source": [
    "9. What data structure does a shelf value resemble?"
   ]
  },
  {
   "cell_type": "code",
   "execution_count": null,
   "id": "eb475fd1",
   "metadata": {},
   "outputs": [],
   "source": [
    "A shelf value resembles a dictionary value; it has keys and values, along with keys() and values() methods that work similarly to the dictionary methods of the same names."
   ]
  }
 ],
 "metadata": {
  "kernelspec": {
   "display_name": "Python 3 (ipykernel)",
   "language": "python",
   "name": "python3"
  },
  "language_info": {
   "codemirror_mode": {
    "name": "ipython",
    "version": 3
   },
   "file_extension": ".py",
   "mimetype": "text/x-python",
   "name": "python",
   "nbconvert_exporter": "python",
   "pygments_lexer": "ipython3",
   "version": "3.9.12"
  }
 },
 "nbformat": 4,
 "nbformat_minor": 5
}
