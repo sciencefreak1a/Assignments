{
 "cells": [
  {
   "cell_type": "code",
   "execution_count": null,
   "id": "829ae0c0",
   "metadata": {},
   "outputs": [],
   "source": [
    "1. Is the Python Standard Library included with PyInputPlus?"
   ]
  },
  {
   "cell_type": "code",
   "execution_count": null,
   "id": "aa7f841a",
   "metadata": {},
   "outputs": [],
   "source": [
    "Python Standard Library is not included in PyInputPlus. It must be insalled separatly using Pip"
   ]
  },
  {
   "cell_type": "code",
   "execution_count": null,
   "id": "1be273dc",
   "metadata": {},
   "outputs": [],
   "source": [
    "pip install pyinputplus"
   ]
  },
  {
   "cell_type": "code",
   "execution_count": null,
   "id": "f323784a",
   "metadata": {},
   "outputs": [],
   "source": [
    "2. Why is PyInputPlus commonly imported with import pyinputplus as pypi?"
   ]
  },
  {
   "cell_type": "code",
   "execution_count": null,
   "id": "93d41097",
   "metadata": {},
   "outputs": [],
   "source": [
    "pypi is the short version og PyInputPlus. It saves time. There is no need to type PyInputPlus everytime"
   ]
  },
  {
   "cell_type": "code",
   "execution_count": null,
   "id": "82833bb0",
   "metadata": {},
   "outputs": [],
   "source": [
    "3. How do you distinguish between inputInt() and inputFloat()?"
   ]
  },
  {
   "cell_type": "code",
   "execution_count": null,
   "id": "56aedcef",
   "metadata": {},
   "outputs": [],
   "source": [
    "inputInt() -  Accepts an integer value, and returns int value\n",
    "\n",
    "inputFloat() - Accepts integer/floating point value and returns float value"
   ]
  },
  {
   "cell_type": "code",
   "execution_count": null,
   "id": "889d30d0",
   "metadata": {},
   "outputs": [],
   "source": [
    "4. Using PyInputPlus, how do you ensure that the user enters a whole number between 0 and 99?"
   ]
  },
  {
   "cell_type": "code",
   "execution_count": null,
   "id": "0fc6cbb0",
   "metadata": {},
   "outputs": [],
   "source": [
    "pyip.inputInt(min = 0, max =99)"
   ]
  },
  {
   "cell_type": "code",
   "execution_count": null,
   "id": "fdf00ca4",
   "metadata": {},
   "outputs": [],
   "source": [
    "5. What is transferred to the keyword arguments allowRegexes and blockRegexes?"
   ]
  },
  {
   "cell_type": "code",
   "execution_count": null,
   "id": "6483ffc5",
   "metadata": {},
   "outputs": [],
   "source": [
    " The allowRegexes and blockRegexes keyword arguments take a list of regular expression strings to determine what the PyInputPlus function will accept or reject as valid input."
   ]
  },
  {
   "cell_type": "code",
   "execution_count": null,
   "id": "f2de9812",
   "metadata": {},
   "outputs": [],
   "source": [
    "6. If a blank input is entered three times, what does inputStr(limit=3) do?"
   ]
  },
  {
   "cell_type": "code",
   "execution_count": null,
   "id": "ea1ffdff",
   "metadata": {},
   "outputs": [],
   "source": [
    "It will throw RetryLimitException exception.\n"
   ]
  },
  {
   "cell_type": "code",
   "execution_count": null,
   "id": "71847041",
   "metadata": {},
   "outputs": [],
   "source": [
    "Q. If blank input is entered three times, what does inputStr(limit=3, default='hello') do?"
   ]
  },
  {
   "cell_type": "code",
   "execution_count": null,
   "id": "cad4a56f",
   "metadata": {},
   "outputs": [],
   "source": [
    "When we use limit keyword arguments and pass a default keyword argument, the function returns the default value instead of raising an exception\n"
   ]
  }
 ],
 "metadata": {
  "kernelspec": {
   "display_name": "Python 3 (ipykernel)",
   "language": "python",
   "name": "python3"
  },
  "language_info": {
   "codemirror_mode": {
    "name": "ipython",
    "version": 3
   },
   "file_extension": ".py",
   "mimetype": "text/x-python",
   "name": "python",
   "nbconvert_exporter": "python",
   "pygments_lexer": "ipython3",
   "version": "3.9.12"
  }
 },
 "nbformat": 4,
 "nbformat_minor": 5
}
