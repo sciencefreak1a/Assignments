{
 "cells": [
  {
   "cell_type": "markdown",
   "id": "19671b65",
   "metadata": {},
   "source": [
    "1. In the below elements which of them are values or an expression? eg:- values can be integer or string and expressions will be mathematical operators.\n",
    "\n",
    "*  Expression\n",
    "\n",
    "'hello' - Value - String\n",
    "\n",
    "-87.8 - Value - Float\n",
    "\n",
    "-  Expression\n",
    "\n",
    "/  Expression\n",
    "\n",
    "+   Expression\n",
    "\n",
    "6   Value - Integer"
   ]
  },
  {
   "cell_type": "markdown",
   "id": "df15828f",
   "metadata": {},
   "source": [
    "2. What is the difference between string and variable?\n",
    "\n",
    "A. A variable can be assigned values. It stores values in memory\n",
    "\n",
    "A string is a sequence of characters placed inside quotes.\n"
   ]
  },
  {
   "cell_type": "markdown",
   "id": "9a2d4db5",
   "metadata": {},
   "source": [
    "3. Describe three different data types.\n",
    " \n",
    " a. Numeric Data - It's a data type which has numeric value - it contains integer, float and complex numbers\n",
    "   - Integers - positive or negative whole numbers eg - 3\n",
    "   \n",
    "   - Float - Numbers with a decimal point eg- 89.50\n",
    "   \n",
    "   - Complex numbers - Numbers with complex classes - with real part and imaginary part. eg- 7+8k\n",
    "   \n",
    "b. String Data Type - Collection of unicode characters - one or more characters wrapped in a quatation mark, double or triple quotes eg - \"hey\"\n",
    "\n",
    "c. Set Data type - Unordered collection of items. Every element in set is exclusive. \n"
   ]
  },
  {
   "cell_type": "code",
   "execution_count": 7,
   "id": "1927582d",
   "metadata": {},
   "outputs": [],
   "source": [
    "set = {3,4,5,6,7,5,44,4,6,7,5,7,5}"
   ]
  },
  {
   "cell_type": "code",
   "execution_count": 8,
   "id": "0dbabd0d",
   "metadata": {},
   "outputs": [
    {
     "data": {
      "text/plain": [
       "{3, 4, 5, 6, 7, 44}"
      ]
     },
     "execution_count": 8,
     "metadata": {},
     "output_type": "execute_result"
    }
   ],
   "source": [
    "set"
   ]
  },
  {
   "cell_type": "markdown",
   "id": "56a71592",
   "metadata": {},
   "source": [
    "4. What is an expression made up of? What do all expressions do?\n",
    "\n",
    "An expression is a combination of operators and operands. \n",
    "\n",
    "All expressions evaluate to a value"
   ]
  },
  {
   "cell_type": "markdown",
   "id": "884514e1",
   "metadata": {},
   "source": [
    "5.This assignment statements, like spam = 10. What is the difference between an\n",
    "expression and a statement?\n",
    "\n",
    "An Expression is a sequence or combination of values, variables, operators and function calls that always produces or returns a result value.\n",
    "\n",
    "A statement is an instruction that a python interpreter can execute"
   ]
  },
  {
   "cell_type": "code",
   "execution_count": null,
   "id": "cc06c7af",
   "metadata": {},
   "outputs": [],
   "source": [
    "6. After running the following code, what does the variable bacon contain?\n",
    "bacon = 22\n",
    "bacon + 1"
   ]
  },
  {
   "cell_type": "code",
   "execution_count": 9,
   "id": "09420cfb",
   "metadata": {},
   "outputs": [
    {
     "data": {
      "text/plain": [
       "23"
      ]
     },
     "execution_count": 9,
     "metadata": {},
     "output_type": "execute_result"
    }
   ],
   "source": [
    "bacon = 22\n",
    "bacon + 1"
   ]
  },
  {
   "cell_type": "code",
   "execution_count": 12,
   "id": "7f4989c8",
   "metadata": {},
   "outputs": [
    {
     "data": {
      "text/plain": [
       "22"
      ]
     },
     "execution_count": 12,
     "metadata": {},
     "output_type": "execute_result"
    }
   ],
   "source": [
    "bacon"
   ]
  },
  {
   "cell_type": "code",
   "execution_count": null,
   "id": "50ec615f",
   "metadata": {},
   "outputs": [],
   "source": [
    "The variable bacon contains the integer 22"
   ]
  },
  {
   "cell_type": "code",
   "execution_count": null,
   "id": "11720e28",
   "metadata": {},
   "outputs": [],
   "source": [
    "7. What should the values of the following two terms be?"
   ]
  },
  {
   "cell_type": "code",
   "execution_count": 14,
   "id": "bd5954c5",
   "metadata": {},
   "outputs": [
    {
     "data": {
      "text/plain": [
       "'spamspamspam'"
      ]
     },
     "execution_count": 14,
     "metadata": {},
     "output_type": "execute_result"
    }
   ],
   "source": [
    "'spam'+'spamspam'"
   ]
  },
  {
   "cell_type": "code",
   "execution_count": 15,
   "id": "baf0485c",
   "metadata": {},
   "outputs": [
    {
     "data": {
      "text/plain": [
       "'spamspamspam'"
      ]
     },
     "execution_count": 15,
     "metadata": {},
     "output_type": "execute_result"
    }
   ],
   "source": [
    "'spam'*3"
   ]
  },
  {
   "cell_type": "markdown",
   "id": "2c820d10",
   "metadata": {},
   "source": [
    "8. Why is eggs a valid variable name while 100 is invalid?"
   ]
  },
  {
   "cell_type": "markdown",
   "id": "d1e9c125",
   "metadata": {},
   "source": [
    "In python, a variable cannot start with a number. that is why 100 is not a valid variable name"
   ]
  },
  {
   "cell_type": "markdown",
   "id": "a566cf9e",
   "metadata": {},
   "source": [
    "9 What three functions can be used to get the integer, floating-point number, or string\n",
    "version of a value?"
   ]
  },
  {
   "cell_type": "code",
   "execution_count": null,
   "id": "7259ef75",
   "metadata": {},
   "outputs": [],
   "source": [
    "int()\n",
    "float()\n",
    "str()"
   ]
  },
  {
   "cell_type": "code",
   "execution_count": 18,
   "id": "039e6808",
   "metadata": {},
   "outputs": [],
   "source": [
    "a = 10"
   ]
  },
  {
   "cell_type": "code",
   "execution_count": 19,
   "id": "ceebdff2",
   "metadata": {},
   "outputs": [
    {
     "data": {
      "text/plain": [
       "10"
      ]
     },
     "execution_count": 19,
     "metadata": {},
     "output_type": "execute_result"
    }
   ],
   "source": [
    "int(a)"
   ]
  },
  {
   "cell_type": "code",
   "execution_count": 22,
   "id": "36b7c3dd",
   "metadata": {},
   "outputs": [
    {
     "data": {
      "text/plain": [
       "10.0"
      ]
     },
     "execution_count": 22,
     "metadata": {},
     "output_type": "execute_result"
    }
   ],
   "source": [
    "float(a)"
   ]
  },
  {
   "cell_type": "code",
   "execution_count": 24,
   "id": "d1fd93a4",
   "metadata": {},
   "outputs": [
    {
     "data": {
      "text/plain": [
       "'10'"
      ]
     },
     "execution_count": 24,
     "metadata": {},
     "output_type": "execute_result"
    }
   ],
   "source": [
    "str(a)"
   ]
  },
  {
   "cell_type": "markdown",
   "id": "43b8a2b4",
   "metadata": {},
   "source": [
    "10. Why does this expression cause an error? How can you fix it?\n"
   ]
  },
  {
   "cell_type": "code",
   "execution_count": 25,
   "id": "2425dba4",
   "metadata": {},
   "outputs": [
    {
     "ename": "TypeError",
     "evalue": "can only concatenate str (not \"int\") to str",
     "output_type": "error",
     "traceback": [
      "\u001b[1;31m---------------------------------------------------------------------------\u001b[0m",
      "\u001b[1;31mTypeError\u001b[0m                                 Traceback (most recent call last)",
      "Input \u001b[1;32mIn [25]\u001b[0m, in \u001b[0;36m<cell line: 1>\u001b[1;34m()\u001b[0m\n\u001b[1;32m----> 1\u001b[0m \u001b[38;5;124;43m'\u001b[39;49m\u001b[38;5;124;43mi have eaten\u001b[39;49m\u001b[38;5;124;43m'\u001b[39;49m\u001b[38;5;241;43m+\u001b[39;49m\u001b[43m \u001b[49m\u001b[38;5;241;43m99\u001b[39;49m \u001b[38;5;241m+\u001b[39m \u001b[38;5;124m'\u001b[39m\u001b[38;5;124mburritos\u001b[39m\u001b[38;5;124m'\u001b[39m\n",
      "\u001b[1;31mTypeError\u001b[0m: can only concatenate str (not \"int\") to str"
     ]
    }
   ],
   "source": [
    "'i have eaten'+ 99 + 'burritos'"
   ]
  },
  {
   "cell_type": "markdown",
   "id": "19c61455",
   "metadata": {},
   "source": [
    "It shows an error because concatenation cannot be done between string and integer"
   ]
  },
  {
   "cell_type": "code",
   "execution_count": 27,
   "id": "fd12f7b1",
   "metadata": {},
   "outputs": [
    {
     "data": {
      "text/plain": [
       "'i have eaten 99 burritos'"
      ]
     },
     "execution_count": 27,
     "metadata": {},
     "output_type": "execute_result"
    }
   ],
   "source": [
    "'i have eaten'+' 99 '+'burritos'"
   ]
  },
  {
   "cell_type": "code",
   "execution_count": null,
   "id": "70677c7b",
   "metadata": {},
   "outputs": [],
   "source": []
  }
 ],
 "metadata": {
  "kernelspec": {
   "display_name": "Python 3 (ipykernel)",
   "language": "python",
   "name": "python3"
  },
  "language_info": {
   "codemirror_mode": {
    "name": "ipython",
    "version": 3
   },
   "file_extension": ".py",
   "mimetype": "text/x-python",
   "name": "python",
   "nbconvert_exporter": "python",
   "pygments_lexer": "ipython3",
   "version": "3.9.12"
  }
 },
 "nbformat": 4,
 "nbformat_minor": 5
}
